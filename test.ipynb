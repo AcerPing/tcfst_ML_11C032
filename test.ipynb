{
  "nbformat": 4,
  "nbformat_minor": 0,
  "metadata": {
    "colab": {
      "provenance": [],
      "collapsed_sections": [],
      "authorship_tag": "ABX9TyPQIzzvBX6Zm9xaew0V0nnk",
      "include_colab_link": true
    },
    "kernelspec": {
      "name": "python3",
      "display_name": "Python 3"
    },
    "language_info": {
      "name": "python"
    }
  },
  "cells": [
    {
      "cell_type": "markdown",
      "metadata": {
        "id": "view-in-github",
        "colab_type": "text"
      },
      "source": [
        "<a href=\"https://colab.research.google.com/github/AcerPing/tcfst_ML_11C032/blob/main/test.ipynb\" target=\"_parent\"><img src=\"https://colab.research.google.com/assets/colab-badge.svg\" alt=\"Open In Colab\"/></a>"
      ]
    },
    {
      "cell_type": "code",
      "execution_count": 1,
      "metadata": {
        "colab": {
          "base_uri": "https://localhost:8080/"
        },
        "id": "pfmOA_Gilv6L",
        "outputId": "a5b2829e-a12f-450f-c213-f2efc95a6813"
      },
      "outputs": [
        {
          "output_type": "stream",
          "name": "stdout",
          "text": [
            "3\n"
          ]
        }
      ],
      "source": [
        "a = 3\n",
        "print(a)"
      ]
    },
    {
      "cell_type": "code",
      "source": [
        "print(a+2)"
      ],
      "metadata": {
        "colab": {
          "base_uri": "https://localhost:8080/"
        },
        "id": "JCaNO4yWlzpQ",
        "outputId": "1d3a7c7f-5ba2-4fa7-ec39-dffbe15a75b2"
      },
      "execution_count": 4,
      "outputs": [
        {
          "output_type": "stream",
          "name": "stdout",
          "text": [
            "5\n"
          ]
        }
      ]
    },
    {
      "cell_type": "code",
      "source": [
        "# Markdown"
      ],
      "metadata": {
        "id": "lXEIzdzsm-Fq"
      },
      "execution_count": 6,
      "outputs": []
    },
    {
      "cell_type": "markdown",
      "source": [
        "# Markdown 語法"
      ],
      "metadata": {
        "id": "sW72RLeKm-gl"
      }
    },
    {
      "cell_type": "markdown",
      "source": [
        "# LaTeX Mathematics\n",
        "$面積 = \\frac{1}{2}\\pi r^2$"
      ],
      "metadata": {
        "id": "RhyewBWknMS_"
      }
    },
    {
      "cell_type": "code",
      "source": [],
      "metadata": {
        "id": "G79QQgYcnRQ_"
      },
      "execution_count": null,
      "outputs": []
    }
  ]
}